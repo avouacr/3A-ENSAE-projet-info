{
 "cells": [
  {
   "cell_type": "code",
   "execution_count": 1,
   "metadata": {},
   "outputs": [],
   "source": [
    "import pandas as pd"
   ]
  },
  {
   "cell_type": "code",
   "execution_count": 2,
   "metadata": {},
   "outputs": [],
   "source": [
    "path = \"/home/jaime/projet_info_3A/all_offers.csv\""
   ]
  },
  {
   "cell_type": "code",
   "execution_count": 3,
   "metadata": {},
   "outputs": [],
   "source": [
    "df_subset = pd.read_csv(path, index_col=None, header=0,nrows=20)"
   ]
  },
  {
   "cell_type": "code",
   "execution_count": 7,
   "metadata": {},
   "outputs": [
    {
     "data": {
      "text/plain": [
       "'[{\\'exigence\\': \\'E\\', \\'libelle\\': \\'carte conducteur\\'}, {\\'exigence\\': \\'E\\', \\'libelle\\': \\' FIMO/FCO\\'}, {\\'code\\': \\'120376\\', \\'exigence\\': \\'S\\', \\'libelle\\': \"Contrôler l\\'état de fonctionnement du véhicule\"}, {\\'code\\': \\'124795\\', \\'exigence\\': \\'S\\', \\'libelle\\': \\'Définir un itinéraire en fonction des consignes de livraison\\'}, {\\'code\\': \\'110473\\', \\'exigence\\': \\'S\\', \\'libelle\\': \\'Organiser ou contrôler le chargement des marchandises dans le véhicule\\'}, {\\'code\\': \\'120377\\', \\'exigence\\': \\'S\\', \\'libelle\\': \"Réaliser les opérations d\\'attelage\"}, {\\'code\\': \\'110474\\', \\'exigence\\': \\'S\\', \\'libelle\\': \\'Vérifier la présence et la conformité des documents de bord et de transport\\'}]'"
      ]
     },
     "execution_count": 7,
     "metadata": {},
     "output_type": "execute_result"
    }
   ],
   "source": [
    "df_subset.iloc[0][\"competences\"]"
   ]
  },
  {
   "cell_type": "code",
   "execution_count": 8,
   "metadata": {},
   "outputs": [],
   "source": [
    "df_subset.to_csv(\"df_subset.csv\", sep=\",\")"
   ]
  },
  {
   "cell_type": "code",
   "execution_count": null,
   "metadata": {},
   "outputs": [],
   "source": []
  }
 ],
 "metadata": {
  "kernelspec": {
   "display_name": "Python 3",
   "language": "python",
   "name": "python3"
  },
  "language_info": {
   "codemirror_mode": {
    "name": "ipython",
    "version": 3
   },
   "file_extension": ".py",
   "mimetype": "text/x-python",
   "name": "python",
   "nbconvert_exporter": "python",
   "pygments_lexer": "ipython3",
   "version": "3.7.3"
  },
  "toc": {
   "base_numbering": 1,
   "nav_menu": {},
   "number_sections": true,
   "sideBar": true,
   "skip_h1_title": false,
   "title_cell": "Table of Contents",
   "title_sidebar": "Contents",
   "toc_cell": false,
   "toc_position": {},
   "toc_section_display": true,
   "toc_window_display": false
  },
  "varInspector": {
   "cols": {
    "lenName": 16,
    "lenType": 16,
    "lenVar": 40
   },
   "kernels_config": {
    "python": {
     "delete_cmd_postfix": "",
     "delete_cmd_prefix": "del ",
     "library": "var_list.py",
     "varRefreshCmd": "print(var_dic_list())"
    },
    "r": {
     "delete_cmd_postfix": ") ",
     "delete_cmd_prefix": "rm(",
     "library": "var_list.r",
     "varRefreshCmd": "cat(var_dic_list()) "
    }
   },
   "types_to_exclude": [
    "module",
    "function",
    "builtin_function_or_method",
    "instance",
    "_Feature"
   ],
   "window_display": false
  }
 },
 "nbformat": 4,
 "nbformat_minor": 2
}
