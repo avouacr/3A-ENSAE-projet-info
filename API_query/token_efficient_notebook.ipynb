{
 "cells": [
  {
   "cell_type": "code",
   "execution_count": 1,
   "metadata": {},
   "outputs": [],
   "source": [
    "import pandas as pd"
   ]
  },
  {
   "cell_type": "code",
   "execution_count": 2,
   "metadata": {},
   "outputs": [],
   "source": [
    "access = pd.read_csv(\"/home/jaime/projet_info_3A/private/access.csv\",header=0)\n",
    "id_api = access[\"Identifiant\"][0]\n",
    "key_api = access[\"Clé secrète\"][0]"
   ]
  },
  {
   "cell_type": "code",
   "execution_count": 3,
   "metadata": {},
   "outputs": [],
   "source": [
    "import requests \n",
    "import os"
   ]
  },
  {
   "cell_type": "code",
   "execution_count": 4,
   "metadata": {},
   "outputs": [],
   "source": [
    "import emploi_store"
   ]
  },
  {
   "cell_type": "code",
   "execution_count": 5,
   "metadata": {},
   "outputs": [],
   "source": [
    "client_id = id_api\n",
    "client_secret = key_api\n",
    "access_tokens = {}\n",
    "cached_packages = None\n",
    "scope = 'api_offresdemploiv2'"
   ]
  },
  {
   "cell_type": "code",
   "execution_count": 6,
   "metadata": {},
   "outputs": [],
   "source": [
    "# from https://github.com/Cocorico84/employme/blob/855cfcda2c54f42b9c42dcbf4ac87cdf09248b7f/back/manager.py"
   ]
  },
  {
   "cell_type": "code",
   "execution_count": 7,
   "metadata": {},
   "outputs": [],
   "source": [
    "import requests\n",
    "\n",
    "\n",
    "url = \"https://api.emploi-store.fr/partenaire\""
   ]
  },
  {
   "cell_type": "code",
   "execution_count": 8,
   "metadata": {},
   "outputs": [],
   "source": [
    "from datetime import datetime, timedelta\n",
    "import time\n",
    "\n",
    "#idea from https://stackoverflow.com/questions/42213427/change-variable-after-a-specific-amount-of-time-python\n",
    "class TimedValue:\n",
    "\n",
    "    def __init__(self):\n",
    "        self._started_at = datetime.fromtimestamp(0) # to do False if not started\n",
    "\n",
    "        pass\n",
    "    \n",
    "    def start(self):\n",
    "        self._started_at = datetime.utcnow()\n",
    "        \n",
    "\n",
    "    def __call__(self):\n",
    "        time_passed = datetime.utcnow() - self._started_at\n",
    "        if time_passed.total_seconds() < 4.5:\n",
    "            return True\n",
    "        return False\n",
    "\n",
    "    \n",
    "# value = False\n"
   ]
  },
  {
   "cell_type": "code",
   "execution_count": 9,
   "metadata": {},
   "outputs": [],
   "source": [
    "value = TimedValue()\n",
    "\n",
    "def set_global_TOKEN():\n",
    "    global TOKEN\n",
    "    if value()==False :\n",
    "            url_token = 'https://entreprise.pole-emploi.fr/connexion/oauth2/access_token'\n",
    "            r = requests.post(url_token, headers={'Content-Type': 'application/x-www-form-urlencoded'},\n",
    "                              params={'realm': '/partenaire'},\n",
    "                              data={'grant_type': 'client_credentials', 'client_id': id_api,\n",
    "                                    'client_secret': key_api,\n",
    "                                    'scope': f'application_{id_api} api_offresdemploiv2 o2dsoffre'})\n",
    "            data = r.json()\n",
    "            TOKEN = data['access_token']\n",
    "            value.start()"
   ]
  },
  {
   "cell_type": "code",
   "execution_count": 10,
   "metadata": {},
   "outputs": [
    {
     "name": "stdout",
     "output_type": "stream",
     "text": [
      "5e8b4b61-4ff9-4389-a4a8-47cf96b4054c\n",
      "5e8b4b61-4ff9-4389-a4a8-47cf96b4054c\n",
      "5e8b4b61-4ff9-4389-a4a8-47cf96b4054c\n",
      "5e8b4b61-4ff9-4389-a4a8-47cf96b4054c\n",
      "5e8b4b61-4ff9-4389-a4a8-47cf96b4054c\n",
      "5e8b4b61-4ff9-4389-a4a8-47cf96b4054c\n",
      "e69427eb-ac4a-4e54-8933-386bde4191d0\n",
      "e69427eb-ac4a-4e54-8933-386bde4191d0\n",
      "e69427eb-ac4a-4e54-8933-386bde4191d0\n",
      "e69427eb-ac4a-4e54-8933-386bde4191d0\n"
     ]
    }
   ],
   "source": [
    "for i in range(10):\n",
    "    time.sleep(0.75)\n",
    "    set_global_TOKEN()\n",
    "    print(TOKEN)"
   ]
  },
  {
   "cell_type": "code",
   "execution_count": 11,
   "metadata": {},
   "outputs": [],
   "source": [
    "def connection(range_str='0-149'):\n",
    "    set_global_TOKEN()\n",
    "    url_offers = f'{url}/offresdemploi/v2/offres/search'\n",
    "    r = requests.get(url=url_offers,params={'range':range_str},   #{'motsCles': 'informatique'} ,# params={'rantge=':range_str}, #,  params={'motsCles': 'informatique'}\n",
    "        headers={'Authorization': f'Bearer {TOKEN}'})\n",
    "    data = r.json()\n",
    "\n",
    "    return data"
   ]
  },
  {
   "cell_type": "code",
   "execution_count": 12,
   "metadata": {},
   "outputs": [],
   "source": [
    "def get_results_as_df(range_str='0-149'):\n",
    "    \n",
    "    request_as_dict=connection(range_str)\n",
    "\n",
    "    df = pd.DataFrame.from_dict(request_as_dict['resultats'])\n",
    "    \n",
    "#     for col_as_list in ['lieuTravail','origineOffre','partenaires']: #, 'competences', 'contact','entreprise','qualitesProfessionnelles','salaire']:\n",
    "#         if col_as_list in df.columns:\n",
    "#             df = pd.concat([df.drop([col_as_list], axis=1), df[col_as_list].apply(pd.Series)], axis=1)\n",
    "    \n",
    "    return df #request_as_dict['filtres possibles']\n"
   ]
  },
  {
   "cell_type": "code",
   "execution_count": 13,
   "metadata": {},
   "outputs": [],
   "source": [
    "data = connection()"
   ]
  },
  {
   "cell_type": "code",
   "execution_count": 14,
   "metadata": {},
   "outputs": [],
   "source": [
    "iteration_index = list(range(0,1000,150))"
   ]
  },
  {
   "cell_type": "code",
   "execution_count": 16,
   "metadata": {},
   "outputs": [],
   "source": [
    "# list_of_results = [connection(\n",
    "#     str(str(min(i,1000))+'-'+str(min(i+149,1149)))) for i in list(range(0,1150,150))]\n",
    "\n",
    "# list_dfs = [pd.DataFrame.from_dict(request_as_dict['resultats']) for request_as_dict in list_of_results]\n",
    "\n",
    "# all_dfs = pd.concat(list_dfs)\n",
    "\n",
    "# for col_as_list in ['lieuTravail','origineOffre','partenaires', 'competences']: #, 'contact','entreprise','qualitesProfessionnelles','salaire']:\n",
    "#     if col_as_list in all_dfs.columns:\n",
    "#         all_dfs = pd.concat([all_dfs.drop([col_as_list], axis=1), all_dfs[col_as_list].apply(pd.Series)], axis=1)"
   ]
  },
  {
   "cell_type": "code",
   "execution_count": 17,
   "metadata": {},
   "outputs": [],
   "source": [
    "# all_dfs = all_dfs.astype(str).drop_duplicates()\n",
    "\n",
    "# all_dfs.to_csv(\"df_max_pages.csv\", sep=\",\")"
   ]
  },
  {
   "cell_type": "markdown",
   "metadata": {},
   "source": [
    "# loop through creation date"
   ]
  },
  {
   "cell_type": "code",
   "execution_count": 30,
   "metadata": {},
   "outputs": [],
   "source": [
    "def connection_with_dates(range_str, min_date, max_date):\n",
    "#     time.sleep(1) # to avoid <Response [429]>, too many requests (if JSONDecodeError)\n",
    "    str_min_date = min_date.strftime(\"%Y-%m-%dT%H:%M:%SZ\") \n",
    "    str_max_date = max_date.strftime(\"%Y-%m-%dT%H:%M:%SZ\")\n",
    "    \n",
    "    set_global_TOKEN()\n",
    "    url_offers = f'{url}/offresdemploi/v2/offres/search'\n",
    "    r = requests.get(url=url_offers,params={'range':range_str,'minCreationDate':str_min_date,'maxCreationDate':str_max_date},   #{'motsCles': 'informatique'} ,# params={'rantge=':range_str}, #,  params={'motsCles': 'informatique'}\n",
    "        headers={'Authorization': f'Bearer {TOKEN}'})\n",
    "#     print(r)\n",
    "    try:\n",
    "        data = r.json()\n",
    "    except json.decoder.JSONDecodeError:\n",
    "        \n",
    "        try:\n",
    "            time.sleep(float(r.headers['Retry-After'])+0.1) # to avoid <Response [429]>, too many requests (if JSONDecodeError).\n",
    "        except :\n",
    "            print(\"###\")\n",
    "            print(str_min_date,str_max_date)\n",
    "            print(r)\n",
    "            print(r.headers)\n",
    "#             data = connection_with_dates(range_str,min_date,max_date) # to comment ?\n",
    "\n",
    "        data = connection_with_dates(range_str,min_date,max_date)\n",
    "        \n",
    "    return data    "
   ]
  },
  {
   "cell_type": "code",
   "execution_count": 31,
   "metadata": {},
   "outputs": [],
   "source": [
    "all_dfs=[]"
   ]
  },
  {
   "cell_type": "code",
   "execution_count": 1,
   "metadata": {},
   "outputs": [],
   "source": [
    "path=\"/home/jaime/projet_info_3A/private/day_by_day/\""
   ]
  },
  {
   "cell_type": "code",
   "execution_count": 64,
   "metadata": {},
   "outputs": [],
   "source": [
    "num_days_lookback = 365*2\n",
    "dates_range = [(datetime.utcnow()-timedelta(days=i)-timedelta(days=423)) for i in np.linspace(0,num_days_lookback,num_days_lookback)]"
   ]
  },
  {
   "cell_type": "code",
   "execution_count": 65,
   "metadata": {},
   "outputs": [
    {
     "data": {
      "text/plain": [
       "datetime.datetime(2019, 2, 9, 5, 50, 7, 644747)"
      ]
     },
     "execution_count": 65,
     "metadata": {},
     "output_type": "execute_result"
    }
   ],
   "source": [
    "datetime.utcnow()-timedelta(days=423)"
   ]
  },
  {
   "cell_type": "code",
   "execution_count": 66,
   "metadata": {},
   "outputs": [],
   "source": [
    "# dates_range = [(datetime.utcnow()-timedelta(days=i)).strftime(\"%Y-%m-%dT%H:%M:%SZ\") for i in range(30)]"
   ]
  },
  {
   "cell_type": "code",
   "execution_count": 67,
   "metadata": {},
   "outputs": [],
   "source": [
    "def create_date_range_str(i):\n",
    "    return str(str(min(i,1000))+'-'+str(min(i+149,1149)))"
   ]
  },
  {
   "cell_type": "code",
   "execution_count": 68,
   "metadata": {},
   "outputs": [],
   "source": [
    "def cut_datime_range_into_frecs(min_day,max_day, num_items):\n",
    "    # mettre num items au lieu de 10 dans la ligne au dessous\n",
    "    timestamp_range = np.linspace(datetime.timestamp(max_day), datetime.timestamp(min_day), 10, dtype=np.int64)\n",
    "    timestamp_range = [datetime.fromtimestamp(i) for i in timestamp_range]\n",
    "    return timestamp_range\n",
    "    "
   ]
  },
  {
   "cell_type": "code",
   "execution_count": 69,
   "metadata": {},
   "outputs": [],
   "source": [
    "def query_results(min_day,max_day):\n",
    "    list_of_results= []\n",
    "    \n",
    "    for i in list(range(0,1150,150)):\n",
    "        date_range_str = create_date_range_str(i)\n",
    "        res = connection_with_dates(date_range_str,min_day,max_day)\n",
    "        list_of_results.append(res)\n",
    "        \n",
    "        try :\n",
    "            if len(res['resultats'])<150:\n",
    "                break\n",
    "        except:\n",
    "            pass\n",
    "\n",
    "    return list_of_results"
   ]
  },
  {
   "cell_type": "code",
   "execution_count": 70,
   "metadata": {},
   "outputs": [],
   "source": [
    "def get_results_in_dates_list(dates_range):\n",
    "    \n",
    "    for day in range(1,len(dates_range)-1):\n",
    "        # IMPORTANT: check if range(1,len(dates_range)-1) or range(1,len(dates_range))\n",
    "\n",
    "        min_day = dates_range[day]\n",
    "        max_day = dates_range[day-1]\n",
    "\n",
    "        # do it more efficient (function and if condition on results)\n",
    "#         list_of_results = [connection_with_dates(create_date_range_str(i),min_day,max_day)\n",
    "#                            for i in list(range(0,1150,150))]\n",
    "\n",
    "        list_of_results = query_results(min_day,max_day)\n",
    "    \n",
    "        try: \n",
    "            list_dfs = [pd.DataFrame.from_dict(request_as_dict['resultats']) for request_as_dict in list_of_results]\n",
    "        except KeyError:\n",
    "            print(\"AAAAAAA\")\n",
    "            print(\"KEY ERROR, CHECK GLOBAL VAR saving_error\")\n",
    "            global saving_error\n",
    "            saving_error=list_of_results\n",
    "            \n",
    "        dfs_date = pd.concat(list_dfs,sort=True)\n",
    "\n",
    "        if len(dfs_date.index) == 0:\n",
    "            pass\n",
    "\n",
    "        elif len(dfs_date.index) < 1200:\n",
    "            csv_name=os.path.join(path, str(dates_range[day+1])+\".csv\")\n",
    "            dfs_date.to_csv(csv_name, sep=\",\")\n",
    "            # return ?\n",
    "\n",
    "        if len(dfs_date.index) == 1200:\n",
    "            print(\"start missing part of the day\")\n",
    "            # does not save csv, cuts time range and reruns code\n",
    "            new_range = cut_datime_range_into_frecs(min_day,max_day,5)\n",
    "            get_results_in_dates_list(new_range)\n",
    "            # do something to avoid infinite loop (i.e. if more than 1200 at the same day, hour,second ?)\n",
    "            print(\"end missing part of the day: SOLVED\")\n"
   ]
  },
  {
   "cell_type": "code",
   "execution_count": 71,
   "metadata": {},
   "outputs": [
    {
     "name": "stdout",
     "output_type": "stream",
     "text": [
      "###\n",
      "2018-09-28T01:25:25Z 2018-09-29T01:27:23Z\n",
      "<Response [502]>\n",
      "{'Access-Control-Expose-Headers': 'Content-Range', 'Date': 'Tue, 07 Apr 2020 05:52:01 GMT', 'Strict-Transport-Security': 'max-age=64281600; includeSubDomains', 'X-Frame-Options': 'ALLOW-FROM https://*.pole-emploi.fr', 'Set-Cookie': 'TS01600790=01b3abf0a2f6a3f6b5559653c856fa4dd6a5f8feb3f068a34f6d85386c8a318a3cee27916ac2e2483cdb40e53639db24bfaf156a5d; Path=/; Secure; HTTPOnly', 'Vary': 'Accept-Encoding', 'Content-Encoding': 'deflate', 'Transfer-Encoding': 'chunked'}\n",
      "###\n",
      "2018-05-12T20:52:49Z 2018-05-13T20:54:48Z\n",
      "<Response [502]>\n",
      "{'Access-Control-Expose-Headers': 'Content-Range', 'Date': 'Tue, 07 Apr 2020 05:54:15 GMT', 'Strict-Transport-Security': 'max-age=64281600; includeSubDomains', 'X-Frame-Options': 'ALLOW-FROM https://*.pole-emploi.fr', 'Set-Cookie': 'TS01600790=01b3abf0a228aa73fcecfa9edd5a9d83a01852e447d5d7f995a9fd756df703429ae2ccba61f2d3170c3485e311cbad323df90381eb; Path=/; Secure; HTTPOnly', 'Vary': 'Accept-Encoding', 'Content-Encoding': 'deflate', 'Transfer-Encoding': 'chunked'}\n",
      "###\n",
      "2018-01-16T17:03:41Z 2018-01-17T17:05:40Z\n",
      "<Response [502]>\n",
      "{'Access-Control-Expose-Headers': 'Content-Range', 'Date': 'Tue, 07 Apr 2020 05:55:54 GMT', 'Strict-Transport-Security': 'max-age=64281600; includeSubDomains', 'X-Frame-Options': 'ALLOW-FROM https://*.pole-emploi.fr', 'Set-Cookie': 'TS01600790=01b3abf0a2d780c290fb8112942128261dd55bc2c250665bd89b7787e12b42b82294a19f75737f6f9af44979f7d779d7b947924d02; Path=/; Secure; HTTPOnly', 'Vary': 'Accept-Encoding', 'Content-Encoding': 'deflate', 'Transfer-Encoding': 'chunked'}\n"
     ]
    },
    {
     "ename": "KeyboardInterrupt",
     "evalue": "",
     "output_type": "error",
     "traceback": [
      "\u001b[0;31m---------------------------------------------------------------------------\u001b[0m",
      "\u001b[0;31mKeyboardInterrupt\u001b[0m                         Traceback (most recent call last)",
      "\u001b[0;32m<ipython-input-71-294a5fe864d7>\u001b[0m in \u001b[0;36m<module>\u001b[0;34m\u001b[0m\n\u001b[0;32m----> 1\u001b[0;31m \u001b[0mget_results_in_dates_list\u001b[0m\u001b[0;34m(\u001b[0m\u001b[0mdates_range\u001b[0m\u001b[0;34m)\u001b[0m\u001b[0;34m\u001b[0m\u001b[0;34m\u001b[0m\u001b[0m\n\u001b[0m",
      "\u001b[0;32m<ipython-input-70-4cfa3bec2134>\u001b[0m in \u001b[0;36mget_results_in_dates_list\u001b[0;34m(dates_range)\u001b[0m\n\u001b[1;32m     11\u001b[0m \u001b[0;31m#                            for i in list(range(0,1150,150))]\u001b[0m\u001b[0;34m\u001b[0m\u001b[0;34m\u001b[0m\u001b[0;34m\u001b[0m\u001b[0m\n\u001b[1;32m     12\u001b[0m \u001b[0;34m\u001b[0m\u001b[0m\n\u001b[0;32m---> 13\u001b[0;31m         \u001b[0mlist_of_results\u001b[0m \u001b[0;34m=\u001b[0m \u001b[0mquery_results\u001b[0m\u001b[0;34m(\u001b[0m\u001b[0mmin_day\u001b[0m\u001b[0;34m,\u001b[0m\u001b[0mmax_day\u001b[0m\u001b[0;34m)\u001b[0m\u001b[0;34m\u001b[0m\u001b[0;34m\u001b[0m\u001b[0m\n\u001b[0m\u001b[1;32m     14\u001b[0m \u001b[0;34m\u001b[0m\u001b[0m\n\u001b[1;32m     15\u001b[0m         \u001b[0;32mtry\u001b[0m\u001b[0;34m:\u001b[0m\u001b[0;34m\u001b[0m\u001b[0;34m\u001b[0m\u001b[0m\n",
      "\u001b[0;32m<ipython-input-69-e128310775ff>\u001b[0m in \u001b[0;36mquery_results\u001b[0;34m(min_day, max_day)\u001b[0m\n\u001b[1;32m      4\u001b[0m     \u001b[0;32mfor\u001b[0m \u001b[0mi\u001b[0m \u001b[0;32min\u001b[0m \u001b[0mlist\u001b[0m\u001b[0;34m(\u001b[0m\u001b[0mrange\u001b[0m\u001b[0;34m(\u001b[0m\u001b[0;36m0\u001b[0m\u001b[0;34m,\u001b[0m\u001b[0;36m1150\u001b[0m\u001b[0;34m,\u001b[0m\u001b[0;36m150\u001b[0m\u001b[0;34m)\u001b[0m\u001b[0;34m)\u001b[0m\u001b[0;34m:\u001b[0m\u001b[0;34m\u001b[0m\u001b[0;34m\u001b[0m\u001b[0m\n\u001b[1;32m      5\u001b[0m         \u001b[0mdate_range_str\u001b[0m \u001b[0;34m=\u001b[0m \u001b[0mcreate_date_range_str\u001b[0m\u001b[0;34m(\u001b[0m\u001b[0mi\u001b[0m\u001b[0;34m)\u001b[0m\u001b[0;34m\u001b[0m\u001b[0;34m\u001b[0m\u001b[0m\n\u001b[0;32m----> 6\u001b[0;31m         \u001b[0mres\u001b[0m \u001b[0;34m=\u001b[0m \u001b[0mconnection_with_dates\u001b[0m\u001b[0;34m(\u001b[0m\u001b[0mdate_range_str\u001b[0m\u001b[0;34m,\u001b[0m\u001b[0mmin_day\u001b[0m\u001b[0;34m,\u001b[0m\u001b[0mmax_day\u001b[0m\u001b[0;34m)\u001b[0m\u001b[0;34m\u001b[0m\u001b[0;34m\u001b[0m\u001b[0m\n\u001b[0m\u001b[1;32m      7\u001b[0m         \u001b[0mlist_of_results\u001b[0m\u001b[0;34m.\u001b[0m\u001b[0mappend\u001b[0m\u001b[0;34m(\u001b[0m\u001b[0mres\u001b[0m\u001b[0;34m)\u001b[0m\u001b[0;34m\u001b[0m\u001b[0;34m\u001b[0m\u001b[0m\n\u001b[1;32m      8\u001b[0m \u001b[0;34m\u001b[0m\u001b[0m\n",
      "\u001b[0;32m<ipython-input-30-c7d4384f33f4>\u001b[0m in \u001b[0;36mconnection_with_dates\u001b[0;34m(range_str, min_date, max_date)\u001b[0m\n\u001b[1;32m      7\u001b[0m     \u001b[0murl_offers\u001b[0m \u001b[0;34m=\u001b[0m \u001b[0;34mf'{url}/offresdemploi/v2/offres/search'\u001b[0m\u001b[0;34m\u001b[0m\u001b[0;34m\u001b[0m\u001b[0m\n\u001b[1;32m      8\u001b[0m     r = requests.get(url=url_offers,params={'range':range_str,'minCreationDate':str_min_date,'maxCreationDate':str_max_date},   #{'motsCles': 'informatique'} ,# params={'rantge=':range_str}, #,  params={'motsCles': 'informatique'}\n\u001b[0;32m----> 9\u001b[0;31m         headers={'Authorization': f'Bearer {TOKEN}'})\n\u001b[0m\u001b[1;32m     10\u001b[0m \u001b[0;31m#     print(r)\u001b[0m\u001b[0;34m\u001b[0m\u001b[0;34m\u001b[0m\u001b[0;34m\u001b[0m\u001b[0m\n\u001b[1;32m     11\u001b[0m     \u001b[0;32mtry\u001b[0m\u001b[0;34m:\u001b[0m\u001b[0;34m\u001b[0m\u001b[0;34m\u001b[0m\u001b[0m\n",
      "\u001b[0;32m~/anaconda3/lib/python3.7/site-packages/requests/api.py\u001b[0m in \u001b[0;36mget\u001b[0;34m(url, params, **kwargs)\u001b[0m\n\u001b[1;32m     73\u001b[0m \u001b[0;34m\u001b[0m\u001b[0m\n\u001b[1;32m     74\u001b[0m     \u001b[0mkwargs\u001b[0m\u001b[0;34m.\u001b[0m\u001b[0msetdefault\u001b[0m\u001b[0;34m(\u001b[0m\u001b[0;34m'allow_redirects'\u001b[0m\u001b[0;34m,\u001b[0m \u001b[0;32mTrue\u001b[0m\u001b[0;34m)\u001b[0m\u001b[0;34m\u001b[0m\u001b[0;34m\u001b[0m\u001b[0m\n\u001b[0;32m---> 75\u001b[0;31m     \u001b[0;32mreturn\u001b[0m \u001b[0mrequest\u001b[0m\u001b[0;34m(\u001b[0m\u001b[0;34m'get'\u001b[0m\u001b[0;34m,\u001b[0m \u001b[0murl\u001b[0m\u001b[0;34m,\u001b[0m \u001b[0mparams\u001b[0m\u001b[0;34m=\u001b[0m\u001b[0mparams\u001b[0m\u001b[0;34m,\u001b[0m \u001b[0;34m**\u001b[0m\u001b[0mkwargs\u001b[0m\u001b[0;34m)\u001b[0m\u001b[0;34m\u001b[0m\u001b[0;34m\u001b[0m\u001b[0m\n\u001b[0m\u001b[1;32m     76\u001b[0m \u001b[0;34m\u001b[0m\u001b[0m\n\u001b[1;32m     77\u001b[0m \u001b[0;34m\u001b[0m\u001b[0m\n",
      "\u001b[0;32m~/anaconda3/lib/python3.7/site-packages/requests/api.py\u001b[0m in \u001b[0;36mrequest\u001b[0;34m(method, url, **kwargs)\u001b[0m\n\u001b[1;32m     58\u001b[0m     \u001b[0;31m# cases, and look like a memory leak in others.\u001b[0m\u001b[0;34m\u001b[0m\u001b[0;34m\u001b[0m\u001b[0;34m\u001b[0m\u001b[0m\n\u001b[1;32m     59\u001b[0m     \u001b[0;32mwith\u001b[0m \u001b[0msessions\u001b[0m\u001b[0;34m.\u001b[0m\u001b[0mSession\u001b[0m\u001b[0;34m(\u001b[0m\u001b[0;34m)\u001b[0m \u001b[0;32mas\u001b[0m \u001b[0msession\u001b[0m\u001b[0;34m:\u001b[0m\u001b[0;34m\u001b[0m\u001b[0;34m\u001b[0m\u001b[0m\n\u001b[0;32m---> 60\u001b[0;31m         \u001b[0;32mreturn\u001b[0m \u001b[0msession\u001b[0m\u001b[0;34m.\u001b[0m\u001b[0mrequest\u001b[0m\u001b[0;34m(\u001b[0m\u001b[0mmethod\u001b[0m\u001b[0;34m=\u001b[0m\u001b[0mmethod\u001b[0m\u001b[0;34m,\u001b[0m \u001b[0murl\u001b[0m\u001b[0;34m=\u001b[0m\u001b[0murl\u001b[0m\u001b[0;34m,\u001b[0m \u001b[0;34m**\u001b[0m\u001b[0mkwargs\u001b[0m\u001b[0;34m)\u001b[0m\u001b[0;34m\u001b[0m\u001b[0;34m\u001b[0m\u001b[0m\n\u001b[0m\u001b[1;32m     61\u001b[0m \u001b[0;34m\u001b[0m\u001b[0m\n\u001b[1;32m     62\u001b[0m \u001b[0;34m\u001b[0m\u001b[0m\n",
      "\u001b[0;32m~/anaconda3/lib/python3.7/site-packages/requests/sessions.py\u001b[0m in \u001b[0;36mrequest\u001b[0;34m(self, method, url, params, data, headers, cookies, files, auth, timeout, allow_redirects, proxies, hooks, stream, verify, cert, json)\u001b[0m\n\u001b[1;32m    531\u001b[0m         }\n\u001b[1;32m    532\u001b[0m         \u001b[0msend_kwargs\u001b[0m\u001b[0;34m.\u001b[0m\u001b[0mupdate\u001b[0m\u001b[0;34m(\u001b[0m\u001b[0msettings\u001b[0m\u001b[0;34m)\u001b[0m\u001b[0;34m\u001b[0m\u001b[0;34m\u001b[0m\u001b[0m\n\u001b[0;32m--> 533\u001b[0;31m         \u001b[0mresp\u001b[0m \u001b[0;34m=\u001b[0m \u001b[0mself\u001b[0m\u001b[0;34m.\u001b[0m\u001b[0msend\u001b[0m\u001b[0;34m(\u001b[0m\u001b[0mprep\u001b[0m\u001b[0;34m,\u001b[0m \u001b[0;34m**\u001b[0m\u001b[0msend_kwargs\u001b[0m\u001b[0;34m)\u001b[0m\u001b[0;34m\u001b[0m\u001b[0;34m\u001b[0m\u001b[0m\n\u001b[0m\u001b[1;32m    534\u001b[0m \u001b[0;34m\u001b[0m\u001b[0m\n\u001b[1;32m    535\u001b[0m         \u001b[0;32mreturn\u001b[0m \u001b[0mresp\u001b[0m\u001b[0;34m\u001b[0m\u001b[0;34m\u001b[0m\u001b[0m\n",
      "\u001b[0;32m~/anaconda3/lib/python3.7/site-packages/requests/sessions.py\u001b[0m in \u001b[0;36msend\u001b[0;34m(self, request, **kwargs)\u001b[0m\n\u001b[1;32m    644\u001b[0m \u001b[0;34m\u001b[0m\u001b[0m\n\u001b[1;32m    645\u001b[0m         \u001b[0;31m# Send the request\u001b[0m\u001b[0;34m\u001b[0m\u001b[0;34m\u001b[0m\u001b[0;34m\u001b[0m\u001b[0m\n\u001b[0;32m--> 646\u001b[0;31m         \u001b[0mr\u001b[0m \u001b[0;34m=\u001b[0m \u001b[0madapter\u001b[0m\u001b[0;34m.\u001b[0m\u001b[0msend\u001b[0m\u001b[0;34m(\u001b[0m\u001b[0mrequest\u001b[0m\u001b[0;34m,\u001b[0m \u001b[0;34m**\u001b[0m\u001b[0mkwargs\u001b[0m\u001b[0;34m)\u001b[0m\u001b[0;34m\u001b[0m\u001b[0;34m\u001b[0m\u001b[0m\n\u001b[0m\u001b[1;32m    647\u001b[0m \u001b[0;34m\u001b[0m\u001b[0m\n\u001b[1;32m    648\u001b[0m         \u001b[0;31m# Total elapsed time of the request (approximately)\u001b[0m\u001b[0;34m\u001b[0m\u001b[0;34m\u001b[0m\u001b[0;34m\u001b[0m\u001b[0m\n",
      "\u001b[0;32m~/anaconda3/lib/python3.7/site-packages/requests/adapters.py\u001b[0m in \u001b[0;36msend\u001b[0;34m(self, request, stream, timeout, verify, cert, proxies)\u001b[0m\n\u001b[1;32m    447\u001b[0m                     \u001b[0mdecode_content\u001b[0m\u001b[0;34m=\u001b[0m\u001b[0;32mFalse\u001b[0m\u001b[0;34m,\u001b[0m\u001b[0;34m\u001b[0m\u001b[0;34m\u001b[0m\u001b[0m\n\u001b[1;32m    448\u001b[0m                     \u001b[0mretries\u001b[0m\u001b[0;34m=\u001b[0m\u001b[0mself\u001b[0m\u001b[0;34m.\u001b[0m\u001b[0mmax_retries\u001b[0m\u001b[0;34m,\u001b[0m\u001b[0;34m\u001b[0m\u001b[0;34m\u001b[0m\u001b[0m\n\u001b[0;32m--> 449\u001b[0;31m                     \u001b[0mtimeout\u001b[0m\u001b[0;34m=\u001b[0m\u001b[0mtimeout\u001b[0m\u001b[0;34m\u001b[0m\u001b[0;34m\u001b[0m\u001b[0m\n\u001b[0m\u001b[1;32m    450\u001b[0m                 )\n\u001b[1;32m    451\u001b[0m \u001b[0;34m\u001b[0m\u001b[0m\n",
      "\u001b[0;32m~/anaconda3/lib/python3.7/site-packages/urllib3/connectionpool.py\u001b[0m in \u001b[0;36murlopen\u001b[0;34m(self, method, url, body, headers, retries, redirect, assert_same_host, timeout, pool_timeout, release_conn, chunked, body_pos, **response_kw)\u001b[0m\n\u001b[1;32m    598\u001b[0m                                                   \u001b[0mtimeout\u001b[0m\u001b[0;34m=\u001b[0m\u001b[0mtimeout_obj\u001b[0m\u001b[0;34m,\u001b[0m\u001b[0;34m\u001b[0m\u001b[0;34m\u001b[0m\u001b[0m\n\u001b[1;32m    599\u001b[0m                                                   \u001b[0mbody\u001b[0m\u001b[0;34m=\u001b[0m\u001b[0mbody\u001b[0m\u001b[0;34m,\u001b[0m \u001b[0mheaders\u001b[0m\u001b[0;34m=\u001b[0m\u001b[0mheaders\u001b[0m\u001b[0;34m,\u001b[0m\u001b[0;34m\u001b[0m\u001b[0;34m\u001b[0m\u001b[0m\n\u001b[0;32m--> 600\u001b[0;31m                                                   chunked=chunked)\n\u001b[0m\u001b[1;32m    601\u001b[0m \u001b[0;34m\u001b[0m\u001b[0m\n\u001b[1;32m    602\u001b[0m             \u001b[0;31m# If we're going to release the connection in ``finally:``, then\u001b[0m\u001b[0;34m\u001b[0m\u001b[0;34m\u001b[0m\u001b[0;34m\u001b[0m\u001b[0m\n",
      "\u001b[0;32m~/anaconda3/lib/python3.7/site-packages/urllib3/connectionpool.py\u001b[0m in \u001b[0;36m_make_request\u001b[0;34m(self, conn, method, url, timeout, chunked, **httplib_request_kw)\u001b[0m\n\u001b[1;32m    341\u001b[0m         \u001b[0;31m# Trigger any extra validation we need to do.\u001b[0m\u001b[0;34m\u001b[0m\u001b[0;34m\u001b[0m\u001b[0;34m\u001b[0m\u001b[0m\n\u001b[1;32m    342\u001b[0m         \u001b[0;32mtry\u001b[0m\u001b[0;34m:\u001b[0m\u001b[0;34m\u001b[0m\u001b[0;34m\u001b[0m\u001b[0m\n\u001b[0;32m--> 343\u001b[0;31m             \u001b[0mself\u001b[0m\u001b[0;34m.\u001b[0m\u001b[0m_validate_conn\u001b[0m\u001b[0;34m(\u001b[0m\u001b[0mconn\u001b[0m\u001b[0;34m)\u001b[0m\u001b[0;34m\u001b[0m\u001b[0;34m\u001b[0m\u001b[0m\n\u001b[0m\u001b[1;32m    344\u001b[0m         \u001b[0;32mexcept\u001b[0m \u001b[0;34m(\u001b[0m\u001b[0mSocketTimeout\u001b[0m\u001b[0;34m,\u001b[0m \u001b[0mBaseSSLError\u001b[0m\u001b[0;34m)\u001b[0m \u001b[0;32mas\u001b[0m \u001b[0me\u001b[0m\u001b[0;34m:\u001b[0m\u001b[0;34m\u001b[0m\u001b[0;34m\u001b[0m\u001b[0m\n\u001b[1;32m    345\u001b[0m             \u001b[0;31m# Py2 raises this as a BaseSSLError, Py3 raises it as socket timeout.\u001b[0m\u001b[0;34m\u001b[0m\u001b[0;34m\u001b[0m\u001b[0;34m\u001b[0m\u001b[0m\n",
      "\u001b[0;32m~/anaconda3/lib/python3.7/site-packages/urllib3/connectionpool.py\u001b[0m in \u001b[0;36m_validate_conn\u001b[0;34m(self, conn)\u001b[0m\n\u001b[1;32m    837\u001b[0m         \u001b[0;31m# Force connect early to allow us to validate the connection.\u001b[0m\u001b[0;34m\u001b[0m\u001b[0;34m\u001b[0m\u001b[0;34m\u001b[0m\u001b[0m\n\u001b[1;32m    838\u001b[0m         \u001b[0;32mif\u001b[0m \u001b[0;32mnot\u001b[0m \u001b[0mgetattr\u001b[0m\u001b[0;34m(\u001b[0m\u001b[0mconn\u001b[0m\u001b[0;34m,\u001b[0m \u001b[0;34m'sock'\u001b[0m\u001b[0;34m,\u001b[0m \u001b[0;32mNone\u001b[0m\u001b[0;34m)\u001b[0m\u001b[0;34m:\u001b[0m  \u001b[0;31m# AppEngine might not have  `.sock`\u001b[0m\u001b[0;34m\u001b[0m\u001b[0;34m\u001b[0m\u001b[0m\n\u001b[0;32m--> 839\u001b[0;31m             \u001b[0mconn\u001b[0m\u001b[0;34m.\u001b[0m\u001b[0mconnect\u001b[0m\u001b[0;34m(\u001b[0m\u001b[0;34m)\u001b[0m\u001b[0;34m\u001b[0m\u001b[0;34m\u001b[0m\u001b[0m\n\u001b[0m\u001b[1;32m    840\u001b[0m \u001b[0;34m\u001b[0m\u001b[0m\n\u001b[1;32m    841\u001b[0m         \u001b[0;32mif\u001b[0m \u001b[0;32mnot\u001b[0m \u001b[0mconn\u001b[0m\u001b[0;34m.\u001b[0m\u001b[0mis_verified\u001b[0m\u001b[0;34m:\u001b[0m\u001b[0;34m\u001b[0m\u001b[0;34m\u001b[0m\u001b[0m\n",
      "\u001b[0;32m~/anaconda3/lib/python3.7/site-packages/urllib3/connection.py\u001b[0m in \u001b[0;36mconnect\u001b[0;34m(self)\u001b[0m\n\u001b[1;32m    342\u001b[0m             \u001b[0mca_cert_dir\u001b[0m\u001b[0;34m=\u001b[0m\u001b[0mself\u001b[0m\u001b[0;34m.\u001b[0m\u001b[0mca_cert_dir\u001b[0m\u001b[0;34m,\u001b[0m\u001b[0;34m\u001b[0m\u001b[0;34m\u001b[0m\u001b[0m\n\u001b[1;32m    343\u001b[0m             \u001b[0mserver_hostname\u001b[0m\u001b[0;34m=\u001b[0m\u001b[0mserver_hostname\u001b[0m\u001b[0;34m,\u001b[0m\u001b[0;34m\u001b[0m\u001b[0;34m\u001b[0m\u001b[0m\n\u001b[0;32m--> 344\u001b[0;31m             ssl_context=context)\n\u001b[0m\u001b[1;32m    345\u001b[0m \u001b[0;34m\u001b[0m\u001b[0m\n\u001b[1;32m    346\u001b[0m         \u001b[0;32mif\u001b[0m \u001b[0mself\u001b[0m\u001b[0;34m.\u001b[0m\u001b[0massert_fingerprint\u001b[0m\u001b[0;34m:\u001b[0m\u001b[0;34m\u001b[0m\u001b[0;34m\u001b[0m\u001b[0m\n",
      "\u001b[0;32m~/anaconda3/lib/python3.7/site-packages/urllib3/util/ssl_.py\u001b[0m in \u001b[0;36mssl_wrap_socket\u001b[0;34m(sock, keyfile, certfile, cert_reqs, ca_certs, server_hostname, ssl_version, ciphers, ssl_context, ca_cert_dir)\u001b[0m\n\u001b[1;32m    345\u001b[0m             or IS_SECURETRANSPORT):\n\u001b[1;32m    346\u001b[0m         \u001b[0;32mif\u001b[0m \u001b[0mHAS_SNI\u001b[0m \u001b[0;32mand\u001b[0m \u001b[0mserver_hostname\u001b[0m \u001b[0;32mis\u001b[0m \u001b[0;32mnot\u001b[0m \u001b[0;32mNone\u001b[0m\u001b[0;34m:\u001b[0m\u001b[0;34m\u001b[0m\u001b[0;34m\u001b[0m\u001b[0m\n\u001b[0;32m--> 347\u001b[0;31m             \u001b[0;32mreturn\u001b[0m \u001b[0mcontext\u001b[0m\u001b[0;34m.\u001b[0m\u001b[0mwrap_socket\u001b[0m\u001b[0;34m(\u001b[0m\u001b[0msock\u001b[0m\u001b[0;34m,\u001b[0m \u001b[0mserver_hostname\u001b[0m\u001b[0;34m=\u001b[0m\u001b[0mserver_hostname\u001b[0m\u001b[0;34m)\u001b[0m\u001b[0;34m\u001b[0m\u001b[0;34m\u001b[0m\u001b[0m\n\u001b[0m\u001b[1;32m    348\u001b[0m \u001b[0;34m\u001b[0m\u001b[0m\n\u001b[1;32m    349\u001b[0m         warnings.warn(\n",
      "\u001b[0;32m~/anaconda3/lib/python3.7/site-packages/urllib3/contrib/pyopenssl.py\u001b[0m in \u001b[0;36mwrap_socket\u001b[0;34m(self, sock, server_side, do_handshake_on_connect, suppress_ragged_eofs, server_hostname)\u001b[0m\n\u001b[1;32m    454\u001b[0m         \u001b[0;32mwhile\u001b[0m \u001b[0;32mTrue\u001b[0m\u001b[0;34m:\u001b[0m\u001b[0;34m\u001b[0m\u001b[0;34m\u001b[0m\u001b[0m\n\u001b[1;32m    455\u001b[0m             \u001b[0;32mtry\u001b[0m\u001b[0;34m:\u001b[0m\u001b[0;34m\u001b[0m\u001b[0;34m\u001b[0m\u001b[0m\n\u001b[0;32m--> 456\u001b[0;31m                 \u001b[0mcnx\u001b[0m\u001b[0;34m.\u001b[0m\u001b[0mdo_handshake\u001b[0m\u001b[0;34m(\u001b[0m\u001b[0;34m)\u001b[0m\u001b[0;34m\u001b[0m\u001b[0;34m\u001b[0m\u001b[0m\n\u001b[0m\u001b[1;32m    457\u001b[0m             \u001b[0;32mexcept\u001b[0m \u001b[0mOpenSSL\u001b[0m\u001b[0;34m.\u001b[0m\u001b[0mSSL\u001b[0m\u001b[0;34m.\u001b[0m\u001b[0mWantReadError\u001b[0m\u001b[0;34m:\u001b[0m\u001b[0;34m\u001b[0m\u001b[0;34m\u001b[0m\u001b[0m\n\u001b[1;32m    458\u001b[0m                 \u001b[0;32mif\u001b[0m \u001b[0;32mnot\u001b[0m \u001b[0mutil\u001b[0m\u001b[0;34m.\u001b[0m\u001b[0mwait_for_read\u001b[0m\u001b[0;34m(\u001b[0m\u001b[0msock\u001b[0m\u001b[0;34m,\u001b[0m \u001b[0msock\u001b[0m\u001b[0;34m.\u001b[0m\u001b[0mgettimeout\u001b[0m\u001b[0;34m(\u001b[0m\u001b[0;34m)\u001b[0m\u001b[0;34m)\u001b[0m\u001b[0;34m:\u001b[0m\u001b[0;34m\u001b[0m\u001b[0;34m\u001b[0m\u001b[0m\n",
      "\u001b[0;32m~/anaconda3/lib/python3.7/site-packages/OpenSSL/SSL.py\u001b[0m in \u001b[0;36mdo_handshake\u001b[0;34m(self)\u001b[0m\n\u001b[1;32m   1912\u001b[0m         \u001b[0;34m:\u001b[0m\u001b[0;32mreturn\u001b[0m\u001b[0;34m:\u001b[0m \u001b[0;32mNone\u001b[0m\u001b[0;34m.\u001b[0m\u001b[0;34m\u001b[0m\u001b[0;34m\u001b[0m\u001b[0m\n\u001b[1;32m   1913\u001b[0m         \"\"\"\n\u001b[0;32m-> 1914\u001b[0;31m         \u001b[0mresult\u001b[0m \u001b[0;34m=\u001b[0m \u001b[0m_lib\u001b[0m\u001b[0;34m.\u001b[0m\u001b[0mSSL_do_handshake\u001b[0m\u001b[0;34m(\u001b[0m\u001b[0mself\u001b[0m\u001b[0;34m.\u001b[0m\u001b[0m_ssl\u001b[0m\u001b[0;34m)\u001b[0m\u001b[0;34m\u001b[0m\u001b[0;34m\u001b[0m\u001b[0m\n\u001b[0m\u001b[1;32m   1915\u001b[0m         \u001b[0mself\u001b[0m\u001b[0;34m.\u001b[0m\u001b[0m_raise_ssl_error\u001b[0m\u001b[0;34m(\u001b[0m\u001b[0mself\u001b[0m\u001b[0;34m.\u001b[0m\u001b[0m_ssl\u001b[0m\u001b[0;34m,\u001b[0m \u001b[0mresult\u001b[0m\u001b[0;34m)\u001b[0m\u001b[0;34m\u001b[0m\u001b[0;34m\u001b[0m\u001b[0m\n\u001b[1;32m   1916\u001b[0m \u001b[0;34m\u001b[0m\u001b[0m\n",
      "\u001b[0;31mKeyboardInterrupt\u001b[0m: "
     ]
    }
   ],
   "source": [
    "get_results_in_dates_list(dates_range)"
   ]
  },
  {
   "cell_type": "code",
   "execution_count": null,
   "metadata": {},
   "outputs": [],
   "source": [
    "#saving_error"
   ]
  },
  {
   "cell_type": "markdown",
   "metadata": {},
   "source": [
    "# concatenate all dfs"
   ]
  },
  {
   "cell_type": "code",
   "execution_count": 72,
   "metadata": {},
   "outputs": [
    {
     "name": "stderr",
     "output_type": "stream",
     "text": [
      "/home/jaime/anaconda3/lib/python3.7/site-packages/ipykernel_launcher.py:16: FutureWarning: Sorting because non-concatenation axis is not aligned. A future version\n",
      "of pandas will change to not sort by default.\n",
      "\n",
      "To accept the future behavior, pass 'sort=False'.\n",
      "\n",
      "To retain the current behavior and silence the warning, pass 'sort=True'.\n",
      "\n",
      "  app.launch_new_instance()\n"
     ]
    }
   ],
   "source": [
    "import pandas as pd\n",
    "import glob\n",
    "\n",
    "# from https://stackoverflow.com/questions/20906474/import-multiple-csv-files-into-pandas-and-concatenate-into-one-dataframe\n",
    "\n",
    "path = r'/home/jaime/projet_info_3A/private/day_by_day/' # use your path\n",
    "all_files = glob.glob(path + \"/*.csv\")\n",
    "\n",
    "li = []\n",
    "\n",
    "for filename in all_files:\n",
    "    df = pd.read_csv(filename, index_col=None, header=0)\n",
    "    li.append(df)\n",
    "\n",
    "# TODO: convert to str and remove duplicates\n",
    "frame = pd.concat(li, axis=0, ignore_index=True)"
   ]
  },
  {
   "cell_type": "code",
   "execution_count": 73,
   "metadata": {},
   "outputs": [],
   "source": [
    "frame = frame.astype(str).drop_duplicates()"
   ]
  },
  {
   "cell_type": "code",
   "execution_count": 74,
   "metadata": {},
   "outputs": [],
   "source": [
    "frame.to_csv(\"all_offers.csv\", sep=\",\")"
   ]
  },
  {
   "cell_type": "code",
   "execution_count": 75,
   "metadata": {},
   "outputs": [
    {
     "data": {
      "text/plain": [
       "275897"
      ]
     },
     "execution_count": 75,
     "metadata": {},
     "output_type": "execute_result"
    }
   ],
   "source": [
    "len(frame)"
   ]
  },
  {
   "cell_type": "code",
   "execution_count": 76,
   "metadata": {},
   "outputs": [],
   "source": [
    "subset = frame[:10]"
   ]
  },
  {
   "cell_type": "code",
   "execution_count": 77,
   "metadata": {},
   "outputs": [
    {
     "data": {
      "text/html": [
       "<div>\n",
       "<style scoped>\n",
       "    .dataframe tbody tr th:only-of-type {\n",
       "        vertical-align: middle;\n",
       "    }\n",
       "\n",
       "    .dataframe tbody tr th {\n",
       "        vertical-align: top;\n",
       "    }\n",
       "\n",
       "    .dataframe thead th {\n",
       "        text-align: right;\n",
       "    }\n",
       "</style>\n",
       "<table border=\"1\" class=\"dataframe\">\n",
       "  <thead>\n",
       "    <tr style=\"text-align: right;\">\n",
       "      <th></th>\n",
       "      <th>Unnamed: 0</th>\n",
       "      <th>accessibleTH</th>\n",
       "      <th>agence</th>\n",
       "      <th>alternance</th>\n",
       "      <th>appellationlibelle</th>\n",
       "      <th>competences</th>\n",
       "      <th>complementExercice</th>\n",
       "      <th>conditionExercice</th>\n",
       "      <th>contact</th>\n",
       "      <th>dateActualisation</th>\n",
       "      <th>...</th>\n",
       "      <th>qualificationLibelle</th>\n",
       "      <th>qualitesProfessionnelles</th>\n",
       "      <th>romeCode</th>\n",
       "      <th>romeLibelle</th>\n",
       "      <th>salaire</th>\n",
       "      <th>secteurActivite</th>\n",
       "      <th>secteurActiviteLibelle</th>\n",
       "      <th>trancheEffectifEtab</th>\n",
       "      <th>typeContrat</th>\n",
       "      <th>typeContratLibelle</th>\n",
       "    </tr>\n",
       "  </thead>\n",
       "  <tbody>\n",
       "    <tr>\n",
       "      <th>0</th>\n",
       "      <td>0</td>\n",
       "      <td>False</td>\n",
       "      <td>nan</td>\n",
       "      <td>False</td>\n",
       "      <td>Conducteur / Conductrice de véhicules Super Lo...</td>\n",
       "      <td>[{'exigence': 'E', 'libelle': 'carte conducteu...</td>\n",
       "      <td>nan</td>\n",
       "      <td>nan</td>\n",
       "      <td>{'coordonnees1': 'Courriel : cv-fpotin@sbc-int...</td>\n",
       "      <td>nan</td>\n",
       "      <td>...</td>\n",
       "      <td>Employé qualifié</td>\n",
       "      <td>nan</td>\n",
       "      <td>N4101</td>\n",
       "      <td>Conduite de transport de marchandises sur long...</td>\n",
       "      <td>{'libelle': 'Horaire de 10,15 Euros sur 12 mois'}</td>\n",
       "      <td>78.0</td>\n",
       "      <td>Activités des agences de travail temporaire</td>\n",
       "      <td>3 à 5 salariés</td>\n",
       "      <td>MIS</td>\n",
       "      <td>Mission intérimaire - 6 Mois</td>\n",
       "    </tr>\n",
       "    <tr>\n",
       "      <th>1</th>\n",
       "      <td>1</td>\n",
       "      <td>False</td>\n",
       "      <td>{'courriel': 'entreprise.pic0010@pole-emploi.n...</td>\n",
       "      <td>False</td>\n",
       "      <td>Chef d'équipe gros oeuvre</td>\n",
       "      <td>[{'code': '118365', 'exigence': 'S', 'libelle'...</td>\n",
       "      <td>nan</td>\n",
       "      <td>nan</td>\n",
       "      <td>{'coordonnees1': '11 RUE Paul Vimereu\\nCS80704...</td>\n",
       "      <td>nan</td>\n",
       "      <td>...</td>\n",
       "      <td>Ouvrier qualifié (P3,P4,OHQ)</td>\n",
       "      <td>[{'description': 'Capacité à faire des choix p...</td>\n",
       "      <td>F1202</td>\n",
       "      <td>Direction de chantier du BTP</td>\n",
       "      <td>{'libelle': 'Annuel de 23000 Euros à 40000 Eur...</td>\n",
       "      <td>78.0</td>\n",
       "      <td>Activités des agences de travail temporaire</td>\n",
       "      <td>nan</td>\n",
       "      <td>CDI</td>\n",
       "      <td>Contrat à durée indéterminée</td>\n",
       "    </tr>\n",
       "    <tr>\n",
       "      <th>2</th>\n",
       "      <td>2</td>\n",
       "      <td>False</td>\n",
       "      <td>nan</td>\n",
       "      <td>False</td>\n",
       "      <td>Ingénieur / Ingénieure génie civil</td>\n",
       "      <td>[{'code': '118773', 'exigence': 'S', 'libelle'...</td>\n",
       "      <td>nan</td>\n",
       "      <td>nan</td>\n",
       "      <td>{'coordonnees1': 'Courriel : ote.rh@ote.fr', '...</td>\n",
       "      <td>nan</td>\n",
       "      <td>...</td>\n",
       "      <td>Cadre</td>\n",
       "      <td>[{'description': 'Capacité à travailler et à s...</td>\n",
       "      <td>F1106</td>\n",
       "      <td>Ingénierie et études du BTP</td>\n",
       "      <td>{'complement1': 'Chèque repas', 'complement2':...</td>\n",
       "      <td>71.0</td>\n",
       "      <td>Ingénierie, études techniques</td>\n",
       "      <td>100 à 199 salariés</td>\n",
       "      <td>CDI</td>\n",
       "      <td>Contrat à durée indéterminée</td>\n",
       "    </tr>\n",
       "    <tr>\n",
       "      <th>3</th>\n",
       "      <td>3</td>\n",
       "      <td>False</td>\n",
       "      <td>{'courriel': 'ale.le-puy@pole-emploi.fr'}</td>\n",
       "      <td>True</td>\n",
       "      <td>Conseiller commercial professionnel / Conseill...</td>\n",
       "      <td>[{'code': '101563', 'exigence': 'S', 'libelle'...</td>\n",
       "      <td>nan</td>\n",
       "      <td>nan</td>\n",
       "      <td>{'coordonnees1': '5 RUE DES CHEVALIERS ST JEAN...</td>\n",
       "      <td>nan</td>\n",
       "      <td>...</td>\n",
       "      <td>Ouvrier spécialisé</td>\n",
       "      <td>nan</td>\n",
       "      <td>C1206</td>\n",
       "      <td>Gestion de clientèle bancaire</td>\n",
       "      <td>{'commentaire': \"contrat d'apprentissage\", 'co...</td>\n",
       "      <td>71.0</td>\n",
       "      <td>Ingénierie, études techniques</td>\n",
       "      <td>0 salarié</td>\n",
       "      <td>CDD</td>\n",
       "      <td>Contrat à durée déterminée - 24 Mois</td>\n",
       "    </tr>\n",
       "    <tr>\n",
       "      <th>4</th>\n",
       "      <td>4</td>\n",
       "      <td>False</td>\n",
       "      <td>nan</td>\n",
       "      <td>False</td>\n",
       "      <td>Menuisier / Menuisière</td>\n",
       "      <td>[{'code': '124985', 'exigence': 'S', 'libelle'...</td>\n",
       "      <td>nan</td>\n",
       "      <td>nan</td>\n",
       "      <td>{'coordonnees1': 'Courriel : immigrationaquebe...</td>\n",
       "      <td>nan</td>\n",
       "      <td>...</td>\n",
       "      <td>Employé qualifié</td>\n",
       "      <td>nan</td>\n",
       "      <td>H2206</td>\n",
       "      <td>Réalisation de menuiserie bois et tonnellerie</td>\n",
       "      <td>{'commentaire': '16$CAD / heure', 'complement1...</td>\n",
       "      <td>78.0</td>\n",
       "      <td>Activités des agences de placement de main-d'o...</td>\n",
       "      <td>0 salarié</td>\n",
       "      <td>CDD</td>\n",
       "      <td>Contrat à durée déterminée - 24 Mois</td>\n",
       "    </tr>\n",
       "    <tr>\n",
       "      <th>5</th>\n",
       "      <td>5</td>\n",
       "      <td>False</td>\n",
       "      <td>nan</td>\n",
       "      <td>False</td>\n",
       "      <td>Conducteur / Conductrice de véhicules Super Lo...</td>\n",
       "      <td>[{'exigence': 'E', 'libelle': 'carte conducteu...</td>\n",
       "      <td>nan</td>\n",
       "      <td>nan</td>\n",
       "      <td>{'coordonnees1': 'Courriel : cv-fpotin@sbc-int...</td>\n",
       "      <td>nan</td>\n",
       "      <td>...</td>\n",
       "      <td>Ouvrier qualifié (P3,P4,OHQ)</td>\n",
       "      <td>nan</td>\n",
       "      <td>N4101</td>\n",
       "      <td>Conduite de transport de marchandises sur long...</td>\n",
       "      <td>{'libelle': 'Horaire de 10,21 Euros sur 12 mois'}</td>\n",
       "      <td>78.0</td>\n",
       "      <td>Activités des agences de travail temporaire</td>\n",
       "      <td>3 à 5 salariés</td>\n",
       "      <td>MIS</td>\n",
       "      <td>Mission intérimaire - 6 Mois</td>\n",
       "    </tr>\n",
       "    <tr>\n",
       "      <th>6</th>\n",
       "      <td>6</td>\n",
       "      <td>False</td>\n",
       "      <td>{'courriel': 'recrutementgolfesttropez@pole-em...</td>\n",
       "      <td>False</td>\n",
       "      <td>Serveur / Serveuse en restauration</td>\n",
       "      <td>[{'code': '104323', 'exigence': 'S', 'libelle'...</td>\n",
       "      <td>nan</td>\n",
       "      <td>nan</td>\n",
       "      <td>{'coordonnees1': 'CS 80083 98 RUE CARNOT', 'co...</td>\n",
       "      <td>nan</td>\n",
       "      <td>...</td>\n",
       "      <td>Employé qualifié</td>\n",
       "      <td>nan</td>\n",
       "      <td>G1803</td>\n",
       "      <td>Service en restauration</td>\n",
       "      <td>{'commentaire': '1900€ nets / à négocier', 'co...</td>\n",
       "      <td>56.0</td>\n",
       "      <td>Restauration traditionnelle</td>\n",
       "      <td>10 à 19 salariés</td>\n",
       "      <td>CDD</td>\n",
       "      <td>Contrat à durée déterminée - 9 Mois</td>\n",
       "    </tr>\n",
       "    <tr>\n",
       "      <th>7</th>\n",
       "      <td>7</td>\n",
       "      <td>False</td>\n",
       "      <td>nan</td>\n",
       "      <td>False</td>\n",
       "      <td>Coiffeur / Coiffeuse</td>\n",
       "      <td>[{'code': '101901', 'exigence': 'S', 'libelle'...</td>\n",
       "      <td>nan</td>\n",
       "      <td>nan</td>\n",
       "      <td>{'coordonnees1': 'Courriel : immigrationaquebe...</td>\n",
       "      <td>nan</td>\n",
       "      <td>...</td>\n",
       "      <td>Employé qualifié</td>\n",
       "      <td>[{'description': 'Capacité à planifier, à prio...</td>\n",
       "      <td>D1202</td>\n",
       "      <td>Coiffure</td>\n",
       "      <td>{'commentaire': '12 $CAD / h +pourboires', 'co...</td>\n",
       "      <td>78.0</td>\n",
       "      <td>Activités des agences de placement de main-d'o...</td>\n",
       "      <td>0 salarié</td>\n",
       "      <td>CDI</td>\n",
       "      <td>Contrat à durée indéterminée</td>\n",
       "    </tr>\n",
       "    <tr>\n",
       "      <th>8</th>\n",
       "      <td>8</td>\n",
       "      <td>False</td>\n",
       "      <td>nan</td>\n",
       "      <td>False</td>\n",
       "      <td>Mécanicien / Mécanicienne poids lourds</td>\n",
       "      <td>[{'code': '107046', 'exigence': 'S', 'libelle'...</td>\n",
       "      <td>nan</td>\n",
       "      <td>nan</td>\n",
       "      <td>{'coordonnees1': 'Courriel : immigrationaquebe...</td>\n",
       "      <td>nan</td>\n",
       "      <td>...</td>\n",
       "      <td>Employé qualifié</td>\n",
       "      <td>nan</td>\n",
       "      <td>I1604</td>\n",
       "      <td>Mécanique automobile et entretien de véhicules</td>\n",
       "      <td>{'commentaire': 'à partir de 25$CAD/hr', 'comp...</td>\n",
       "      <td>78.0</td>\n",
       "      <td>Activités des agences de placement de main-d'o...</td>\n",
       "      <td>0 salarié</td>\n",
       "      <td>CDI</td>\n",
       "      <td>Contrat à durée indéterminée</td>\n",
       "    </tr>\n",
       "    <tr>\n",
       "      <th>9</th>\n",
       "      <td>9</td>\n",
       "      <td>False</td>\n",
       "      <td>nan</td>\n",
       "      <td>False</td>\n",
       "      <td>Orthoptiste</td>\n",
       "      <td>[{'code': '107558', 'exigence': 'S', 'libelle'...</td>\n",
       "      <td>Horaires adaptables</td>\n",
       "      <td>nan</td>\n",
       "      <td>{'commentaire': 'accompagné des photocopîes de...</td>\n",
       "      <td>nan</td>\n",
       "      <td>...</td>\n",
       "      <td>Technicien</td>\n",
       "      <td>nan</td>\n",
       "      <td>J1407</td>\n",
       "      <td>Orthoptique</td>\n",
       "      <td>{'commentaire': '+ mutuelle + plan épargne ent...</td>\n",
       "      <td>86.0</td>\n",
       "      <td>Activités hospitalières</td>\n",
       "      <td>500 à 999 salariés</td>\n",
       "      <td>CDI</td>\n",
       "      <td>Contrat à durée indéterminée</td>\n",
       "    </tr>\n",
       "  </tbody>\n",
       "</table>\n",
       "<p>10 rows × 41 columns</p>\n",
       "</div>"
      ],
      "text/plain": [
       "  Unnamed: 0 accessibleTH                                             agence  \\\n",
       "0          0        False                                                nan   \n",
       "1          1        False  {'courriel': 'entreprise.pic0010@pole-emploi.n...   \n",
       "2          2        False                                                nan   \n",
       "3          3        False          {'courriel': 'ale.le-puy@pole-emploi.fr'}   \n",
       "4          4        False                                                nan   \n",
       "5          5        False                                                nan   \n",
       "6          6        False  {'courriel': 'recrutementgolfesttropez@pole-em...   \n",
       "7          7        False                                                nan   \n",
       "8          8        False                                                nan   \n",
       "9          9        False                                                nan   \n",
       "\n",
       "  alternance                                 appellationlibelle  \\\n",
       "0      False  Conducteur / Conductrice de véhicules Super Lo...   \n",
       "1      False                          Chef d'équipe gros oeuvre   \n",
       "2      False                 Ingénieur / Ingénieure génie civil   \n",
       "3       True  Conseiller commercial professionnel / Conseill...   \n",
       "4      False                             Menuisier / Menuisière   \n",
       "5      False  Conducteur / Conductrice de véhicules Super Lo...   \n",
       "6      False                 Serveur / Serveuse en restauration   \n",
       "7      False                               Coiffeur / Coiffeuse   \n",
       "8      False             Mécanicien / Mécanicienne poids lourds   \n",
       "9      False                                        Orthoptiste   \n",
       "\n",
       "                                         competences   complementExercice  \\\n",
       "0  [{'exigence': 'E', 'libelle': 'carte conducteu...                  nan   \n",
       "1  [{'code': '118365', 'exigence': 'S', 'libelle'...                  nan   \n",
       "2  [{'code': '118773', 'exigence': 'S', 'libelle'...                  nan   \n",
       "3  [{'code': '101563', 'exigence': 'S', 'libelle'...                  nan   \n",
       "4  [{'code': '124985', 'exigence': 'S', 'libelle'...                  nan   \n",
       "5  [{'exigence': 'E', 'libelle': 'carte conducteu...                  nan   \n",
       "6  [{'code': '104323', 'exigence': 'S', 'libelle'...                  nan   \n",
       "7  [{'code': '101901', 'exigence': 'S', 'libelle'...                  nan   \n",
       "8  [{'code': '107046', 'exigence': 'S', 'libelle'...                  nan   \n",
       "9  [{'code': '107558', 'exigence': 'S', 'libelle'...  Horaires adaptables   \n",
       "\n",
       "  conditionExercice                                            contact  \\\n",
       "0               nan  {'coordonnees1': 'Courriel : cv-fpotin@sbc-int...   \n",
       "1               nan  {'coordonnees1': '11 RUE Paul Vimereu\\nCS80704...   \n",
       "2               nan  {'coordonnees1': 'Courriel : ote.rh@ote.fr', '...   \n",
       "3               nan  {'coordonnees1': '5 RUE DES CHEVALIERS ST JEAN...   \n",
       "4               nan  {'coordonnees1': 'Courriel : immigrationaquebe...   \n",
       "5               nan  {'coordonnees1': 'Courriel : cv-fpotin@sbc-int...   \n",
       "6               nan  {'coordonnees1': 'CS 80083 98 RUE CARNOT', 'co...   \n",
       "7               nan  {'coordonnees1': 'Courriel : immigrationaquebe...   \n",
       "8               nan  {'coordonnees1': 'Courriel : immigrationaquebe...   \n",
       "9               nan  {'commentaire': 'accompagné des photocopîes de...   \n",
       "\n",
       "  dateActualisation  ...          qualificationLibelle  \\\n",
       "0               nan  ...              Employé qualifié   \n",
       "1               nan  ...  Ouvrier qualifié (P3,P4,OHQ)   \n",
       "2               nan  ...                         Cadre   \n",
       "3               nan  ...            Ouvrier spécialisé   \n",
       "4               nan  ...              Employé qualifié   \n",
       "5               nan  ...  Ouvrier qualifié (P3,P4,OHQ)   \n",
       "6               nan  ...              Employé qualifié   \n",
       "7               nan  ...              Employé qualifié   \n",
       "8               nan  ...              Employé qualifié   \n",
       "9               nan  ...                    Technicien   \n",
       "\n",
       "                            qualitesProfessionnelles romeCode  \\\n",
       "0                                                nan    N4101   \n",
       "1  [{'description': 'Capacité à faire des choix p...    F1202   \n",
       "2  [{'description': 'Capacité à travailler et à s...    F1106   \n",
       "3                                                nan    C1206   \n",
       "4                                                nan    H2206   \n",
       "5                                                nan    N4101   \n",
       "6                                                nan    G1803   \n",
       "7  [{'description': 'Capacité à planifier, à prio...    D1202   \n",
       "8                                                nan    I1604   \n",
       "9                                                nan    J1407   \n",
       "\n",
       "                                         romeLibelle  \\\n",
       "0  Conduite de transport de marchandises sur long...   \n",
       "1                       Direction de chantier du BTP   \n",
       "2                        Ingénierie et études du BTP   \n",
       "3                      Gestion de clientèle bancaire   \n",
       "4      Réalisation de menuiserie bois et tonnellerie   \n",
       "5  Conduite de transport de marchandises sur long...   \n",
       "6                            Service en restauration   \n",
       "7                                           Coiffure   \n",
       "8     Mécanique automobile et entretien de véhicules   \n",
       "9                                        Orthoptique   \n",
       "\n",
       "                                             salaire secteurActivite  \\\n",
       "0  {'libelle': 'Horaire de 10,15 Euros sur 12 mois'}            78.0   \n",
       "1  {'libelle': 'Annuel de 23000 Euros à 40000 Eur...            78.0   \n",
       "2  {'complement1': 'Chèque repas', 'complement2':...            71.0   \n",
       "3  {'commentaire': \"contrat d'apprentissage\", 'co...            71.0   \n",
       "4  {'commentaire': '16$CAD / heure', 'complement1...            78.0   \n",
       "5  {'libelle': 'Horaire de 10,21 Euros sur 12 mois'}            78.0   \n",
       "6  {'commentaire': '1900€ nets / à négocier', 'co...            56.0   \n",
       "7  {'commentaire': '12 $CAD / h +pourboires', 'co...            78.0   \n",
       "8  {'commentaire': 'à partir de 25$CAD/hr', 'comp...            78.0   \n",
       "9  {'commentaire': '+ mutuelle + plan épargne ent...            86.0   \n",
       "\n",
       "                              secteurActiviteLibelle trancheEffectifEtab  \\\n",
       "0        Activités des agences de travail temporaire      3 à 5 salariés   \n",
       "1        Activités des agences de travail temporaire                 nan   \n",
       "2                      Ingénierie, études techniques  100 à 199 salariés   \n",
       "3                      Ingénierie, études techniques           0 salarié   \n",
       "4  Activités des agences de placement de main-d'o...           0 salarié   \n",
       "5        Activités des agences de travail temporaire      3 à 5 salariés   \n",
       "6                        Restauration traditionnelle    10 à 19 salariés   \n",
       "7  Activités des agences de placement de main-d'o...           0 salarié   \n",
       "8  Activités des agences de placement de main-d'o...           0 salarié   \n",
       "9                            Activités hospitalières  500 à 999 salariés   \n",
       "\n",
       "  typeContrat                    typeContratLibelle  \n",
       "0         MIS          Mission intérimaire - 6 Mois  \n",
       "1         CDI          Contrat à durée indéterminée  \n",
       "2         CDI          Contrat à durée indéterminée  \n",
       "3         CDD  Contrat à durée déterminée - 24 Mois  \n",
       "4         CDD  Contrat à durée déterminée - 24 Mois  \n",
       "5         MIS          Mission intérimaire - 6 Mois  \n",
       "6         CDD   Contrat à durée déterminée - 9 Mois  \n",
       "7         CDI          Contrat à durée indéterminée  \n",
       "8         CDI          Contrat à durée indéterminée  \n",
       "9         CDI          Contrat à durée indéterminée  \n",
       "\n",
       "[10 rows x 41 columns]"
      ]
     },
     "execution_count": 77,
     "metadata": {},
     "output_type": "execute_result"
    }
   ],
   "source": [
    "subset"
   ]
  },
  {
   "cell_type": "code",
   "execution_count": null,
   "metadata": {},
   "outputs": [],
   "source": []
  }
 ],
 "metadata": {
  "kernelspec": {
   "display_name": "Python 3",
   "language": "python",
   "name": "python3"
  },
  "language_info": {
   "codemirror_mode": {
    "name": "ipython",
    "version": 3
   },
   "file_extension": ".py",
   "mimetype": "text/x-python",
   "name": "python",
   "nbconvert_exporter": "python",
   "pygments_lexer": "ipython3",
   "version": "3.7.3"
  },
  "toc": {
   "base_numbering": 1,
   "nav_menu": {},
   "number_sections": true,
   "sideBar": true,
   "skip_h1_title": false,
   "title_cell": "Table of Contents",
   "title_sidebar": "Contents",
   "toc_cell": false,
   "toc_position": {},
   "toc_section_display": true,
   "toc_window_display": false
  },
  "varInspector": {
   "cols": {
    "lenName": 16,
    "lenType": 16,
    "lenVar": 40
   },
   "kernels_config": {
    "python": {
     "delete_cmd_postfix": "",
     "delete_cmd_prefix": "del ",
     "library": "var_list.py",
     "varRefreshCmd": "print(var_dic_list())"
    },
    "r": {
     "delete_cmd_postfix": ") ",
     "delete_cmd_prefix": "rm(",
     "library": "var_list.r",
     "varRefreshCmd": "cat(var_dic_list()) "
    }
   },
   "types_to_exclude": [
    "module",
    "function",
    "builtin_function_or_method",
    "instance",
    "_Feature"
   ],
   "window_display": false
  }
 },
 "nbformat": 4,
 "nbformat_minor": 2
}
