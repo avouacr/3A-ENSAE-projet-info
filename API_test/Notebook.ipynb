{
 "cells": [
  {
   "cell_type": "code",
   "execution_count": 1,
   "metadata": {},
   "outputs": [],
   "source": [
    "import pandas as pd"
   ]
  },
  {
   "cell_type": "code",
   "execution_count": 2,
   "metadata": {},
   "outputs": [],
   "source": [
    "access = pd.read_csv(\"/home/jaime/projet_info_3A/3A-ENSAE-projet-info/private/access.csv\",header=0)\n",
    "id_api = access[\"Identifiant\"][0]\n",
    "key_api = access[\"Clé secrète\"][0]"
   ]
  },
  {
   "cell_type": "code",
   "execution_count": 3,
   "metadata": {},
   "outputs": [],
   "source": [
    "import requests \n",
    "import os"
   ]
  },
  {
   "cell_type": "code",
   "execution_count": 4,
   "metadata": {},
   "outputs": [],
   "source": [
    "import emploi_store"
   ]
  },
  {
   "cell_type": "code",
   "execution_count": 5,
   "metadata": {},
   "outputs": [],
   "source": [
    "client_id = id_api\n",
    "client_secret = key_api\n",
    "access_tokens = {}\n",
    "cached_packages = None\n",
    "scope = 'api_offresdemploiv2'"
   ]
  },
  {
   "cell_type": "code",
   "execution_count": 6,
   "metadata": {},
   "outputs": [],
   "source": [
    "# from https://github.com/Cocorico84/employme/blob/855cfcda2c54f42b9c42dcbf4ac87cdf09248b7f/back/manager.py"
   ]
  },
  {
   "cell_type": "code",
   "execution_count": 7,
   "metadata": {},
   "outputs": [],
   "source": [
    "import requests\n",
    "\n",
    "\n",
    "url = \"https://api.emploi-store.fr/partenaire\""
   ]
  },
  {
   "cell_type": "code",
   "execution_count": 8,
   "metadata": {},
   "outputs": [],
   "source": [
    "def get_token():\n",
    "    url_token = 'https://entreprise.pole-emploi.fr/connexion/oauth2/access_token'\n",
    "    r = requests.post(url_token, headers={'Content-Type': 'application/x-www-form-urlencoded'},\n",
    "                      params={'realm': '/partenaire'},\n",
    "                      data={'grant_type': 'client_credentials', 'client_id': id_api,\n",
    "                            'client_secret': key_api,\n",
    "                            'scope': f'application_{id_api} api_offresdemploiv2 o2dsoffre'})\n",
    "    data = r.json()\n",
    "    return data['access_token']\n"
   ]
  },
  {
   "cell_type": "code",
   "execution_count": 9,
   "metadata": {},
   "outputs": [],
   "source": [
    "def connection(token):\n",
    "    url_offers = f'{url}/offresdemploi/v2/offres/search'\n",
    "    r = requests.get(url=url_offers, #,  params={'motsCles': 'informatique'}\n",
    "        headers={'Authorization': f'Bearer {get_token()}'})\n",
    "    data = r.json()\n",
    "\n",
    "    return data"
   ]
  },
  {
   "cell_type": "code",
   "execution_count": 10,
   "metadata": {},
   "outputs": [],
   "source": [
    "request_as_dict=connection(get_token())"
   ]
  },
  {
   "cell_type": "code",
   "execution_count": 14,
   "metadata": {},
   "outputs": [],
   "source": [
    "df = pd.DataFrame.from_dict(request_as_dict['resultats'])\n"
   ]
  },
  {
   "cell_type": "code",
   "execution_count": 20,
   "metadata": {},
   "outputs": [],
   "source": [
    "df.to_csv(\"first_test.csv\", sep=\",\", header=False, index=False)"
   ]
  },
  {
   "cell_type": "code",
   "execution_count": 18,
   "metadata": {},
   "outputs": [
    {
     "data": {
      "text/plain": [
       "\"Consultant chez Fed Finance, je recherche pour l'un de mes clients, cabinet d'expertise comptable, un Gestionnaire Paie (H/F) en CDI a\\xa0 Fecamp (76403). Qu'est-ce que le metier de Collaborateur social Votre fonction VOTRE NCTION Envie de rejoindre une equipe dynamique au sein d'un cabinet d'une quinzaine de personnes. Voici ce que nous proposons : sous la responsabilite du responsable du pole social, vous intervenez sur un portefeuille multi-conventionnel. Vos missions sont les suivantes : - La gestion de l'entree a\\xa0 la sortie du salarie : de travail, DPAE, DSN, attestations diverses, rupture conventionnelle, demission, licenciement ; - La saisie des bulletins de paie de vos client (300 a\\xa0 350 par mois) ; - L'accompagnement des clients dans leurs differentes problematiques liees a\\xa0 leurs salaries ; Ce est aussi l'occasion pour vous de monter en competences. Votre profil VOTRE PROFIL De formation en Ressource Humaine ou oriente vers la gestion de la paie (type BAC2/3), vous avez une experience en cabinet comptable de minimum 5 annees. Travailleur, organise et volontaire, vous souhaitez travailler au sein d'une pole social de 4 personnes ou vous serez accompagne afin de pouvoir evoluer. Vous avez le sens des responsabilites et une bonne motivation, ce est pour vous. Poste a\\xa0 pourvoir des que possible. Remuneration a\\xa0 negocier selon profil et experience 35-45 Ka?¬. Si vous ne repondez pas a\\xa0 l'ensemble de ces attentes, n'hesitez pas neanmoins a\\xa0 nous transmettre votre candidature qui sera etudiee avec attention et en toute confidentialite  Nous vous proposons NOUS VOUS PROPOSONS Nous vous proposons d'integrer un cabinet a\\xa0 forte proximite avec les collaborateurs et une stabilite en interne. Si cette opportunite professionnelle vous interesse, nous vous invitons a\\xa0 postuler a\\xa0 l'adresse : victoireleenhardtfedfinance.fr.\""
      ]
     },
     "execution_count": 18,
     "metadata": {},
     "output_type": "execute_result"
    }
   ],
   "source": [
    "df.iloc[0][\"description\"]"
   ]
  },
  {
   "cell_type": "code",
   "execution_count": null,
   "metadata": {},
   "outputs": [],
   "source": []
  }
 ],
 "metadata": {
  "kernelspec": {
   "display_name": "Python 3",
   "language": "python",
   "name": "python3"
  },
  "language_info": {
   "codemirror_mode": {
    "name": "ipython",
    "version": 3
   },
   "file_extension": ".py",
   "mimetype": "text/x-python",
   "name": "python",
   "nbconvert_exporter": "python",
   "pygments_lexer": "ipython3",
   "version": "3.7.3"
  },
  "toc": {
   "base_numbering": 1,
   "nav_menu": {},
   "number_sections": true,
   "sideBar": true,
   "skip_h1_title": false,
   "title_cell": "Table of Contents",
   "title_sidebar": "Contents",
   "toc_cell": false,
   "toc_position": {},
   "toc_section_display": true,
   "toc_window_display": false
  },
  "varInspector": {
   "cols": {
    "lenName": 16,
    "lenType": 16,
    "lenVar": 40
   },
   "kernels_config": {
    "python": {
     "delete_cmd_postfix": "",
     "delete_cmd_prefix": "del ",
     "library": "var_list.py",
     "varRefreshCmd": "print(var_dic_list())"
    },
    "r": {
     "delete_cmd_postfix": ") ",
     "delete_cmd_prefix": "rm(",
     "library": "var_list.r",
     "varRefreshCmd": "cat(var_dic_list()) "
    }
   },
   "types_to_exclude": [
    "module",
    "function",
    "builtin_function_or_method",
    "instance",
    "_Feature"
   ],
   "window_display": false
  }
 },
 "nbformat": 4,
 "nbformat_minor": 2
}
