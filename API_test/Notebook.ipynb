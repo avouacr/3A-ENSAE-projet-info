{
 "cells": [
  {
   "cell_type": "code",
   "execution_count": 3,
   "metadata": {},
   "outputs": [],
   "source": [
    "import pandas as pd"
   ]
  },
  {
   "cell_type": "code",
   "execution_count": 4,
   "metadata": {},
   "outputs": [],
   "source": [
    "access = pd.read_csv(\"/home/jaime/projet_info_3A/private/access.csv\",header=0)\n",
    "id_api = access[\"Identifiant\"][0]\n",
    "key_api = access[\"Clé secrète\"][0]"
   ]
  },
  {
   "cell_type": "code",
   "execution_count": 5,
   "metadata": {},
   "outputs": [],
   "source": [
    "import requests \n",
    "import os"
   ]
  },
  {
   "cell_type": "code",
   "execution_count": 6,
   "metadata": {},
   "outputs": [],
   "source": [
    "import emploi_store"
   ]
  },
  {
   "cell_type": "code",
   "execution_count": 7,
   "metadata": {},
   "outputs": [],
   "source": [
    "client_id = id_api\n",
    "client_secret = key_api\n",
    "access_tokens = {}\n",
    "cached_packages = None\n",
    "scope = 'api_offresdemploiv2'"
   ]
  },
  {
   "cell_type": "code",
   "execution_count": 8,
   "metadata": {},
   "outputs": [],
   "source": [
    "# from https://github.com/Cocorico84/employme/blob/855cfcda2c54f42b9c42dcbf4ac87cdf09248b7f/back/manager.py"
   ]
  },
  {
   "cell_type": "code",
   "execution_count": 9,
   "metadata": {},
   "outputs": [],
   "source": [
    "import requests\n",
    "\n",
    "\n",
    "url = \"https://api.emploi-store.fr/partenaire\""
   ]
  },
  {
   "cell_type": "code",
   "execution_count": 10,
   "metadata": {},
   "outputs": [],
   "source": [
    "def get_token():\n",
    "    url_token = 'https://entreprise.pole-emploi.fr/connexion/oauth2/access_token'\n",
    "    r = requests.post(url_token, headers={'Content-Type': 'application/x-www-form-urlencoded'},\n",
    "                      params={'realm': '/partenaire'},\n",
    "                      data={'grant_type': 'client_credentials', 'client_id': id_api,\n",
    "                            'client_secret': key_api,\n",
    "                            'scope': f'application_{id_api} api_offresdemploiv2 o2dsoffre'})\n",
    "    data = r.json()\n",
    "    return data['access_token']\n"
   ]
  },
  {
   "cell_type": "code",
   "execution_count": 35,
   "metadata": {},
   "outputs": [],
   "source": [
    "def connection(token,range_str='0-149'):\n",
    "    url_offers = f'{url}/offresdemploi/v2/offres/search'\n",
    "    r = requests.get(url=url_offers,params={'range':range_str},   #{'motsCles': 'informatique'} ,# params={'rantge=':range_str}, #,  params={'motsCles': 'informatique'}\n",
    "        headers={'Authorization': f'Bearer {get_token()}'})\n",
    "    data = r.json()\n",
    "\n",
    "    return data"
   ]
  },
  {
   "cell_type": "code",
   "execution_count": 74,
   "metadata": {},
   "outputs": [
    {
     "data": {
      "text/plain": [
       "Index([               'accessibleTH',                  'alternance',\n",
       "                'appellationlibelle',                 'competences',\n",
       "                           'contact',           'dateActualisation',\n",
       "                      'dateCreation',                 'description',\n",
       "               'dureeTravailLibelle', 'dureeTravailLibelleConverti',\n",
       "                        'entreprise',             'experienceExige',\n",
       "                 'experienceLibelle',                  'formations',\n",
       "                                'id',                    'intitule',\n",
       "                           'langues',               'natureContrat',\n",
       "                      'nombrePostes',           'qualificationCode',\n",
       "              'qualificationLibelle',    'qualitesProfessionnelles',\n",
       "                          'romeCode',                 'romeLibelle',\n",
       "                           'salaire',             'secteurActivite',\n",
       "            'secteurActiviteLibelle',         'trancheEffectifEtab',\n",
       "                       'typeContrat',          'typeContratLibelle',\n",
       "                        'codePostal',                     'commune',\n",
       "                          'latitude',                     'libelle',\n",
       "                         'longitude',                     'origine',\n",
       "                        'urlOrigine',                             0],\n",
       "      dtype='object')"
      ]
     },
     "execution_count": 74,
     "metadata": {},
     "output_type": "execute_result"
    }
   ],
   "source": [
    "df.columns"
   ]
  },
  {
   "cell_type": "code",
   "execution_count": 115,
   "metadata": {},
   "outputs": [],
   "source": [
    "def get_results_as_df(range_str='0-149'):\n",
    "    \n",
    "    request_as_dict=connection(get_token(),range_str)\n",
    "\n",
    "    df = pd.DataFrame.from_dict(request_as_dict['resultats'])\n",
    "    \n",
    "#     for col_as_list in ['lieuTravail','origineOffre','partenaires']: #, 'competences', 'contact','entreprise','qualitesProfessionnelles','salaire']:\n",
    "#         if col_as_list in df.columns:\n",
    "#             df = pd.concat([df.drop([col_as_list], axis=1), df[col_as_list].apply(pd.Series)], axis=1)\n",
    "    \n",
    "    return df #request_as_dict['filtres possibles']\n"
   ]
  },
  {
   "cell_type": "code",
   "execution_count": 124,
   "metadata": {},
   "outputs": [],
   "source": [
    "# iteration_index = list(range(0,1150,150))\n",
    "iteration_index = list(range(0,1000,150))"
   ]
  },
  {
   "cell_type": "code",
   "execution_count": 125,
   "metadata": {
    "code_folding": [],
    "scrolled": true
   },
   "outputs": [],
   "source": [
    "list_dfs = [get_results_as_df(\n",
    "    str(str(min(i,1000))+'-'+str(min(i+149,1149)))) for i in list(range(0,1150,150))]"
   ]
  },
  {
   "cell_type": "code",
   "execution_count": 126,
   "metadata": {},
   "outputs": [
    {
     "name": "stderr",
     "output_type": "stream",
     "text": [
      "/home/jaime/anaconda3/lib/python3.7/site-packages/ipykernel_launcher.py:1: FutureWarning: Sorting because non-concatenation axis is not aligned. A future version\n",
      "of pandas will change to not sort by default.\n",
      "\n",
      "To accept the future behavior, pass 'sort=False'.\n",
      "\n",
      "To retain the current behavior and silence the warning, pass 'sort=True'.\n",
      "\n",
      "  \"\"\"Entry point for launching an IPython kernel.\n"
     ]
    }
   ],
   "source": [
    "all_dfs = pd.concat(list_dfs)"
   ]
  },
  {
   "cell_type": "code",
   "execution_count": 127,
   "metadata": {},
   "outputs": [],
   "source": [
    "for col_as_list in ['lieuTravail','origineOffre','partenaires', 'competences', 'contact','entreprise','qualitesProfessionnelles','salaire']:\n",
    "    if col_as_list in all_dfs.columns:\n",
    "        all_dfs = pd.concat([all_dfs.drop([col_as_list], axis=1), all_dfs[col_as_list].apply(pd.Series)], axis=1)\n"
   ]
  },
  {
   "cell_type": "code",
   "execution_count": 129,
   "metadata": {},
   "outputs": [
    {
     "data": {
      "text/plain": [
       "accessibleTH                                                               False\n",
       "alternance                                                                 False\n",
       "appellationlibelle                             Ouvrier / Ouvrière en viticulture\n",
       "dateActualisation                                                            NaN\n",
       "dateCreation                                           2020-04-05T16:06:05+02:00\n",
       "deplacementCode                                                              NaN\n",
       "deplacementLibelle                                                           NaN\n",
       "description                    Nous recherchons une personne pour effectuer l...\n",
       "dureeTravailLibelle                                         35H Horaires normaux\n",
       "dureeTravailLibelleConverti                                          Temps plein\n",
       "experienceCommentaire                                                        NaN\n",
       "experienceExige                                                                E\n",
       "experienceLibelle                                                          2 ans\n",
       "formations                                                                    []\n",
       "id                                                                       100YNMT\n",
       "intitule                                       Ouvrier / Ouvrière en viticulture\n",
       "langues                                                                       []\n",
       "natureContrat                                                    Contrat travail\n",
       "nombrePostes                                                                   1\n",
       "permis                                                                       NaN\n",
       "qualificationCode                                                              6\n",
       "qualificationLibelle                                            Employé qualifié\n",
       "romeCode                                                                   A1405\n",
       "romeLibelle                                         Arboriculture et viticulture\n",
       "secteurActivite                                                               01\n",
       "secteurActiviteLibelle                                       Culture de la vigne\n",
       "trancheEffectifEtab                                               3 à 5 salariés\n",
       "typeContrat                                                                  CDD\n",
       "typeContratLibelle                           Contrat à durée déterminée - 1 Mois\n",
       "codePostal                                                                 51500\n",
       "                                                     ...                        \n",
       "libelle                                                             51 - CHAMERY\n",
       "longitude                                                                  3.955\n",
       "origine                                                                        1\n",
       "urlOrigine                     https://candidat.pole-emploi.fr/offres/recherc...\n",
       "0                                                                            NaN\n",
       "1                                                                            NaN\n",
       "2                                                                            NaN\n",
       "0                              {'code': '122825', 'exigence': 'S', 'libelle':...\n",
       "1                              {'code': '122827', 'exigence': 'S', 'libelle':...\n",
       "2                              {'code': '122828', 'exigence': 'S', 'libelle':...\n",
       "3                              {'code': '100039', 'exigence': 'S', 'libelle':...\n",
       "4                              {'code': '122826', 'exigence': 'S', 'libelle':...\n",
       "5                                                                            NaN\n",
       "0                                                                            NaN\n",
       "coordonnees1                           Courriel : champagne.maletrez.f@orange.fr\n",
       "courriel                                          champagne.maletrez.f@orange.fr\n",
       "nom                                           MALETREZ FREDERIC - Mme * MALETREZ\n",
       "telephone                                                                    NaN\n",
       "0                                                                            NaN\n",
       "description                                                                  NaN\n",
       "nom                                                            MALETREZ FREDERIC\n",
       "url                                                                          NaN\n",
       "0                              {'description': 'Capacité à prendre en charge ...\n",
       "1                              {'description': 'Capacité à respecter les règl...\n",
       "2                              {'description': 'Capacité à réagir rapidement ...\n",
       "0                                                                            NaN\n",
       "commentaire                                                             en tache\n",
       "complement1                                                             en tache\n",
       "complement2                                                                  NaN\n",
       "libelle                                                                      NaN\n",
       "Name: 0, Length: 62, dtype: object"
      ]
     },
     "execution_count": 129,
     "metadata": {},
     "output_type": "execute_result"
    }
   ],
   "source": [
    "all_dfs.iloc[0]"
   ]
  },
  {
   "cell_type": "code",
   "execution_count": 130,
   "metadata": {},
   "outputs": [],
   "source": [
    "all_dfs = all_dfs.astype(str).drop_duplicates()"
   ]
  },
  {
   "cell_type": "code",
   "execution_count": 131,
   "metadata": {},
   "outputs": [],
   "source": [
    "all_dfs.to_csv(\"df_max_pages.csv\", sep=\",\", header=False, index=False)"
   ]
  },
  {
   "cell_type": "code",
   "execution_count": null,
   "metadata": {},
   "outputs": [],
   "source": []
  }
 ],
 "metadata": {
  "kernelspec": {
   "display_name": "Python 3",
   "language": "python",
   "name": "python3"
  },
  "language_info": {
   "codemirror_mode": {
    "name": "ipython",
    "version": 3
   },
   "file_extension": ".py",
   "mimetype": "text/x-python",
   "name": "python",
   "nbconvert_exporter": "python",
   "pygments_lexer": "ipython3",
   "version": "3.7.3"
  },
  "toc": {
   "base_numbering": 1,
   "nav_menu": {},
   "number_sections": true,
   "sideBar": true,
   "skip_h1_title": false,
   "title_cell": "Table of Contents",
   "title_sidebar": "Contents",
   "toc_cell": false,
   "toc_position": {},
   "toc_section_display": true,
   "toc_window_display": false
  },
  "varInspector": {
   "cols": {
    "lenName": 16,
    "lenType": 16,
    "lenVar": 40
   },
   "kernels_config": {
    "python": {
     "delete_cmd_postfix": "",
     "delete_cmd_prefix": "del ",
     "library": "var_list.py",
     "varRefreshCmd": "print(var_dic_list())"
    },
    "r": {
     "delete_cmd_postfix": ") ",
     "delete_cmd_prefix": "rm(",
     "library": "var_list.r",
     "varRefreshCmd": "cat(var_dic_list()) "
    }
   },
   "types_to_exclude": [
    "module",
    "function",
    "builtin_function_or_method",
    "instance",
    "_Feature"
   ],
   "window_display": false
  }
 },
 "nbformat": 4,
 "nbformat_minor": 2
}
